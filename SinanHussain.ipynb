{
  "nbformat": 4,
  "nbformat_minor": 0,
  "metadata": {
    "colab": {
      "provenance": []
    },
    "kernelspec": {
      "name": "python3",
      "display_name": "Python 3"
    },
    "language_info": {
      "name": "python"
    }
  },
  "cells": [
    {
      "cell_type": "code",
      "execution_count": 82,
      "metadata": {
        "id": "XO9c2088KFFI",
        "colab": {
          "base_uri": "https://localhost:8080/",
          "height": 53
        },
        "outputId": "fadad414-24df-4181-9207-8ca95f40e83a"
      },
      "outputs": [
        {
          "output_type": "execute_result",
          "data": {
            "text/plain": [
              "' 1 Write a Python function to accept a string value from the user and display the\\ncount of each character in that string. Sample input: Enter a string value:\\nassembly Sample output: a=1, s=2, e=1, m=1, b=1, l=1, y=1'"
            ],
            "application/vnd.google.colaboratory.intrinsic+json": {
              "type": "string"
            }
          },
          "metadata": {},
          "execution_count": 82
        }
      ],
      "source": [
        "''' 1 Write a Python function to accept a string value from the user and display the\n",
        "count of each character in that string. Sample input: Enter a string value:\n",
        "assembly Sample output: a=1, s=2, e=1, m=1, b=1, l=1, y=1'''"
      ]
    },
    {
      "cell_type": "code",
      "source": [
        "string = input(\"Enter a string: \")\n",
        "l1 = ['a','s','e','m','b','l','y']\n",
        "for char in string:\n",
        "    if char not in l1:\n",
        "        l1.append(char)\n",
        "for item in l1:\n",
        " print(item,string.count(item), sep = \"=\")"
      ],
      "metadata": {
        "colab": {
          "base_uri": "https://localhost:8080/"
        },
        "id": "o6ZZK-bwN1zn",
        "outputId": "1ac9379f-452f-4a0c-bb6c-24a5773d0ef9"
      },
      "execution_count": null,
      "outputs": [
        {
          "output_type": "stream",
          "name": "stdout",
          "text": [
            "Enter a string: 5\n",
            "a=0\n",
            "s=0\n",
            "e=0\n",
            "m=0\n",
            "b=0\n",
            "l=0\n",
            "y=0\n",
            "5=1\n"
          ]
        }
      ]
    },
    {
      "cell_type": "code",
      "source": [
        "''' 2 Write a Python function to find the maximum of three numbers Sample input:\n",
        "34,12,7 Sample output: 34'''"
      ],
      "metadata": {
        "colab": {
          "base_uri": "https://localhost:8080/",
          "height": 35
        },
        "id": "_ZNBkBo2PKVo",
        "outputId": "46f0cfaa-a3cf-4868-e25c-cb0d06cf8104"
      },
      "execution_count": 83,
      "outputs": [
        {
          "output_type": "execute_result",
          "data": {
            "text/plain": [
              "' 2 Write a Python function to find the maximum of three numbers Sample input:\\n34,12,7 Sample output: 34'"
            ],
            "application/vnd.google.colaboratory.intrinsic+json": {
              "type": "string"
            }
          },
          "metadata": {},
          "execution_count": 83
        }
      ]
    },
    {
      "cell_type": "code",
      "source": [
        "def maximum(a, b, c):\n",
        "   l1= [a, b, c]\n",
        "\n",
        "   return max(l1)\n",
        "x = int(input(\"Enter First number:\"))\n",
        "y = int(input(\"Enter Second number:\"))\n",
        "z = int(input(\"Enter Third number:\"))\n",
        "print(\"Maximum Number is = \",maximum(x, y, z))"
      ],
      "metadata": {
        "colab": {
          "base_uri": "https://localhost:8080/"
        },
        "id": "58RZeDSFelt3",
        "outputId": "c74c2d1a-7332-4c7b-c2ba-8ec0991c6d4a"
      },
      "execution_count": null,
      "outputs": [
        {
          "output_type": "stream",
          "name": "stdout",
          "text": [
            "Enter First number:22\n",
            "Enter Second number:33\n",
            "Enter Third number:444\n",
            "Maximum Number is =  444\n"
          ]
        }
      ]
    },
    {
      "cell_type": "code",
      "source": [
        "''' 3 Write a Python function called exponent(base,exp) that returns an integer\n",
        "value of base raises to the power of exp. Sample input: Enter the base: 2\n",
        "Enter the exponent: 3 Sample output: 8 '''"
      ],
      "metadata": {
        "colab": {
          "base_uri": "https://localhost:8080/",
          "height": 53
        },
        "id": "4855zFFies47",
        "outputId": "082bf32f-59a2-4555-a7d9-2ace52e86f4d"
      },
      "execution_count": 84,
      "outputs": [
        {
          "output_type": "execute_result",
          "data": {
            "text/plain": [
              "' 3 Write a Python function called exponent(base,exp) that returns an integer\\nvalue of base raises to the power of exp. Sample input: Enter the base: 2\\nEnter the exponent: 3 Sample output: 8 '"
            ],
            "application/vnd.google.colaboratory.intrinsic+json": {
              "type": "string"
            }
          },
          "metadata": {},
          "execution_count": 84
        }
      ]
    },
    {
      "cell_type": "code",
      "source": [
        "def exponent(base, exp):\n",
        "  if exp == 0:\n",
        "    return 1\n",
        "  else:\n",
        "    return base * exponent(base, exp - 1)\n",
        "base = 2\n",
        "exp = 3\n",
        "\n",
        "result = exponent(base, exp)\n",
        "\n",
        "print(f\"{base} raised to the power of {exp} is {result}\")\n"
      ],
      "metadata": {
        "id": "STpnT-aZfbE7",
        "colab": {
          "base_uri": "https://localhost:8080/"
        },
        "outputId": "ecf8c226-ad85-47a0-ec35-518e986cc8bf"
      },
      "execution_count": null,
      "outputs": [
        {
          "output_type": "stream",
          "name": "stdout",
          "text": [
            "2 raised to the power of 3 is 8\n"
          ]
        }
      ]
    },
    {
      "cell_type": "code",
      "source": [
        "''' 4 Write a Python function that takes a positive integer and returns the sum of\n",
        "the cube of all the positive integers smaller than the specified number.\n",
        "Sample input: 4 Sample output: 36.'''"
      ],
      "metadata": {
        "colab": {
          "base_uri": "https://localhost:8080/",
          "height": 53
        },
        "id": "Ykw6zpsRh_Gy",
        "outputId": "f71cda8e-dc7a-42bd-9aa7-3a18bd47b834"
      },
      "execution_count": 85,
      "outputs": [
        {
          "output_type": "execute_result",
          "data": {
            "text/plain": [
              "' 4 Write a Python function that takes a positive integer and returns the sum of\\nthe cube of all the positive integers smaller than the specified number.\\nSample input: 4 Sample output: 36.'"
            ],
            "application/vnd.google.colaboratory.intrinsic+json": {
              "type": "string"
            }
          },
          "metadata": {},
          "execution_count": 85
        }
      ]
    },
    {
      "cell_type": "code",
      "source": [
        "def sum(x):\n",
        "  sum = 0\n",
        "  for i in range(1, x):\n",
        "    sum = i**3\n",
        "  return sum\n",
        "\n",
        "print(sum(4))\n"
      ],
      "metadata": {
        "colab": {
          "base_uri": "https://localhost:8080/"
        },
        "id": "eo12BBkAia3C",
        "outputId": "aa3b573d-6509-4e8d-af37-85ee272597ae"
      },
      "execution_count": 86,
      "outputs": [
        {
          "output_type": "stream",
          "name": "stdout",
          "text": [
            "27\n"
          ]
        }
      ]
    },
    {
      "cell_type": "code",
      "source": [
        "''' 5 Write a Python program which iterates from 1 to 10. For multiples of 2, print\n",
        "“Fizz” instead of the number and for the multiples of 5, print “Buzz”. For\n",
        "numbers which are multiples of both 2 and 5, print “FizzBuzz”. Sample input:\n",
        "numbers from 1 to 10 Sample output: 1 Fizz 3 Fizz Buzz Fizz 7 Fizz 9\n",
        "FizzBuzz '''"
      ],
      "metadata": {
        "colab": {
          "base_uri": "https://localhost:8080/",
          "height": 53
        },
        "id": "V1ZDcu0Gi1qR",
        "outputId": "a38e7938-741d-4ba1-e657-5eeb6e6a51a1"
      },
      "execution_count": 87,
      "outputs": [
        {
          "output_type": "execute_result",
          "data": {
            "text/plain": [
              "' 5 Write a Python program which iterates from 1 to 10. For multiples of 2, print\\n“Fizz” instead of the number and for the multiples of 5, print “Buzz”. For\\nnumbers which are multiples of both 2 and 5, print “FizzBuzz”. Sample input:\\nnumbers from 1 to 10 Sample output: 1 Fizz 3 Fizz Buzz Fizz 7 Fizz 9\\nFizzBuzz '"
            ],
            "application/vnd.google.colaboratory.intrinsic+json": {
              "type": "string"
            }
          },
          "metadata": {},
          "execution_count": 87
        }
      ]
    },
    {
      "cell_type": "code",
      "source": [
        "for i in range(1, 11):\n",
        "  if i % 1 == 0 and i % 2 == 0:\n",
        "    print(\"FizzBuzz\")\n",
        "  elif i % 2 == 0:\n",
        "    print(\"Fizz\")\n",
        "  elif i % 5 == 0:\n",
        "    print(\"Buzz\")\n",
        "  else:\n",
        "    print(i)\n"
      ],
      "metadata": {
        "colab": {
          "base_uri": "https://localhost:8080/"
        },
        "id": "OIx_62jbjJTQ",
        "outputId": "d538c12e-4ff4-4a6e-bf40-5322e36865d6"
      },
      "execution_count": null,
      "outputs": [
        {
          "output_type": "stream",
          "name": "stdout",
          "text": [
            "1\n",
            "FizzBuzz\n",
            "3\n",
            "FizzBuzz\n",
            "Buzz\n",
            "FizzBuzz\n",
            "7\n",
            "FizzBuzz\n",
            "9\n",
            "FizzBuzz\n"
          ]
        }
      ]
    },
    {
      "cell_type": "code",
      "source": [
        "''' 6 Write a Python function to find the most frequent item in a list of numbers.\n",
        "Sample input: 2, 3, 4, 2, 5, 2 Sample output: 2'''"
      ],
      "metadata": {
        "colab": {
          "base_uri": "https://localhost:8080/",
          "height": 35
        },
        "id": "qZewk1XLj3-a",
        "outputId": "f40a4e10-cadf-42c6-e6c3-dc8da49a0778"
      },
      "execution_count": 93,
      "outputs": [
        {
          "output_type": "execute_result",
          "data": {
            "text/plain": [
              "' 6 Write a Python function to find the most frequent item in a list of numbers.\\nSample input: 2, 3, 4, 2, 5, 2 Sample output: 2'"
            ],
            "application/vnd.google.colaboratory.intrinsic+json": {
              "type": "string"
            }
          },
          "metadata": {},
          "execution_count": 93
        }
      ]
    },
    {
      "cell_type": "code",
      "source": [],
      "metadata": {
        "id": "sbNFSYAetfRN"
      },
      "execution_count": null,
      "outputs": []
    },
    {
      "cell_type": "code",
      "source": [
        "''' 7 Write a Python function to find the sum of squares of the numbers in a list.\n",
        "Sample input: 2,1,3,1 Sample output: 15'''"
      ],
      "metadata": {
        "colab": {
          "base_uri": "https://localhost:8080/",
          "height": 35
        },
        "id": "4ZVXUfZxl2uQ",
        "outputId": "40dca677-7bd4-4802-8dc0-ba69ffa8b33c"
      },
      "execution_count": 90,
      "outputs": [
        {
          "output_type": "execute_result",
          "data": {
            "text/plain": [
              "' 7 Write a Python function to find the sum of squares of the numbers in a list.\\nSample input: 2,1,3,1 Sample output: 15'"
            ],
            "application/vnd.google.colaboratory.intrinsic+json": {
              "type": "string"
            }
          },
          "metadata": {},
          "execution_count": 90
        }
      ]
    },
    {
      "cell_type": "code",
      "source": [
        "s = 0\n",
        "l1 = [2,1,3,1]\n",
        "for n in l1:\n",
        "  s = s+n*n\n",
        "  print(s)"
      ],
      "metadata": {
        "colab": {
          "base_uri": "https://localhost:8080/"
        },
        "id": "h7Mz3eWhmJBv",
        "outputId": "68d05f31-6eff-4a90-9aa6-2385c96b8c69"
      },
      "execution_count": 97,
      "outputs": [
        {
          "output_type": "stream",
          "name": "stdout",
          "text": [
            "4\n",
            "5\n",
            "14\n",
            "15\n"
          ]
        }
      ]
    },
    {
      "cell_type": "code",
      "source": [
        "''' 8 Write a Python program using for loop that will iterate from 1 to 15. For each\n",
        "iteration, check if the current number is odd or even, and display the message\n",
        "to the screen as odd or even. Sample input: 1….15 Sample output: 1-odd 2-\n",
        "even …. 15-odd'''"
      ],
      "metadata": {
        "colab": {
          "base_uri": "https://localhost:8080/",
          "height": 53
        },
        "id": "BUqFeOnJmYD-",
        "outputId": "1dd4d7fb-4196-4b36-e52b-c4588c85cdf9"
      },
      "execution_count": 91,
      "outputs": [
        {
          "output_type": "execute_result",
          "data": {
            "text/plain": [
              "' 8 Write a Python program using for loop that will iterate from 1 to 15. For each\\niteration, check if the current number is odd or even, and display the message\\nto the screen as odd or even. Sample input: 1….15 Sample output: 1-odd 2-\\neven …. 15-odd'"
            ],
            "application/vnd.google.colaboratory.intrinsic+json": {
              "type": "string"
            }
          },
          "metadata": {},
          "execution_count": 91
        }
      ]
    },
    {
      "cell_type": "code",
      "source": [
        "l1 = [1,2,3,4,5,6,7,8,9,10,11,12,13,14,15]\n",
        "even=[]\n",
        "odd=[]\n",
        "while len(l1)>0:\n",
        "  l=l1.pop()\n",
        "  if l%2==0:\n",
        "    even.append(l)\n",
        "  else:\n",
        "      odd.append(l)\n",
        "print(even)\n",
        "print(odd)"
      ],
      "metadata": {
        "colab": {
          "base_uri": "https://localhost:8080/"
        },
        "id": "bmoQSY_emd7_",
        "outputId": "ac590ce1-9f74-4e49-e970-b48559e274ee"
      },
      "execution_count": null,
      "outputs": [
        {
          "output_type": "stream",
          "name": "stdout",
          "text": [
            "[14, 12, 10, 8, 6, 4, 2]\n",
            "[15, 13, 11, 9, 7, 5, 3, 1]\n"
          ]
        }
      ]
    },
    {
      "cell_type": "code",
      "source": [
        "''' 9 Write a Python function to convert temperatures to and from Celsius\n",
        "Fahrenheit. [Formula: c/5=f-32/9 where c=temperature in Celsius and f=\n",
        "temperature in Fahrenheit.] Sample input: Temperature in Fahrenheit =41\n",
        "Sample output: Temperature in Celsius =5'''"
      ],
      "metadata": {
        "colab": {
          "base_uri": "https://localhost:8080/",
          "height": 53
        },
        "id": "hy-acZvznS9x",
        "outputId": "bb74b8e6-fb95-49d2-e5fd-2d5dcc727265"
      },
      "execution_count": 92,
      "outputs": [
        {
          "output_type": "execute_result",
          "data": {
            "text/plain": [
              "' 9 Write a Python function to convert temperatures to and from Celsius\\nFahrenheit. [Formula: c/5=f-32/9 where c=temperature in Celsius and f=\\ntemperature in Fahrenheit.] Sample input: Temperature in Fahrenheit =41\\nSample output: Temperature in Celsius =5'"
            ],
            "application/vnd.google.colaboratory.intrinsic+json": {
              "type": "string"
            }
          },
          "metadata": {},
          "execution_count": 92
        }
      ]
    },
    {
      "cell_type": "code",
      "source": [],
      "metadata": {
        "id": "pLZD6qtzzrNo"
      },
      "execution_count": null,
      "outputs": []
    },
    {
      "cell_type": "code",
      "source": [
        "''' 10 Write a Python function to calculate the factorial of a number (a nonnegative\n",
        "integer). The function accepts the number as an argument. Sample input: 3\n",
        "Sample output: 6 '''"
      ],
      "metadata": {
        "id": "p7Q9AAaYoi2X",
        "colab": {
          "base_uri": "https://localhost:8080/",
          "height": 53
        },
        "outputId": "785d708b-77de-4a85-9820-4b2a39b4e685"
      },
      "execution_count": 98,
      "outputs": [
        {
          "output_type": "execute_result",
          "data": {
            "text/plain": [
              "' 10 Write a Python function to calculate the factorial of a number (a nonnegative \\ninteger). The function accepts the number as an argument. Sample input: 3 \\nSample output: 6 '"
            ],
            "application/vnd.google.colaboratory.intrinsic+json": {
              "type": "string"
            }
          },
          "metadata": {},
          "execution_count": 98
        }
      ]
    },
    {
      "cell_type": "code",
      "source": [
        "def factorial(n):\n",
        "  if n == 0:\n",
        "    return 1\n",
        "  else:\n",
        "    return n * factorial(n-1)\n",
        "\n",
        "print(factorial(3))"
      ],
      "metadata": {
        "colab": {
          "base_uri": "https://localhost:8080/"
        },
        "id": "3NHSTwyvvNj8",
        "outputId": "302705bb-3e50-4b11-cc31-33c7384ad6a5"
      },
      "execution_count": 100,
      "outputs": [
        {
          "output_type": "stream",
          "name": "stdout",
          "text": [
            "6\n"
          ]
        }
      ]
    },
    {
      "cell_type": "code",
      "source": [],
      "metadata": {
        "id": "LdKDhAMAy7xf"
      },
      "execution_count": null,
      "outputs": []
    }
  ]
}